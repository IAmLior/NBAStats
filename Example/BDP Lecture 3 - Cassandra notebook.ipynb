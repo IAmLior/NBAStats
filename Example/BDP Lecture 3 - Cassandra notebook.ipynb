{
  "cells": [
    {
      "cell_type": "markdown",
      "metadata": {
        "id": "QcxOIdPuj4zS"
      },
      "source": [
        "# Cassandra University application"
      ]
    },
    {
      "cell_type": "markdown",
      "metadata": {
        "id": "qr7oPwN2kp01"
      },
      "source": [
        "##Step 1: Setup Cassandra Cluster on Docker"
      ]
    },
    {
      "cell_type": "markdown",
      "metadata": {
        "id": "2RtlqrV1ktnv"
      },
      "source": [
        "We will install Cassandra on Docker; we will have a full description on Containers and Dockers later in the course."
      ]
    },
    {
      "cell_type": "markdown",
      "metadata": {
        "id": "KTMrqGmDkw3b"
      },
      "source": [
        "Make sure Docker Desktop is installed. If not, download and install Docker from the official website [Get Docker | Docker Docs](https://docs.docker.com/get-docker/)."
      ]
    },
    {
      "cell_type": "code",
      "execution_count": null,
      "metadata": {
        "id": "pO-YspA_krOI"
      },
      "outputs": [],
      "source": [
        "# On the first CMD:\n",
        "# Pull the Cassandra Docker Image:\n",
        "docker pull cassandra:latest"
      ]
    },
    {
      "cell_type": "code",
      "execution_count": null,
      "metadata": {
        "id": "7aeWH3EDk-Wc"
      },
      "outputs": [],
      "source": [
        "# Start the first Cassandra node (Seed Node):\n",
        "docker run --name cass_cluster cassandra:latest"
      ]
    },
    {
      "cell_type": "code",
      "execution_count": null,
      "metadata": {
        "id": "GZ2NU0LWlRT5"
      },
      "outputs": [],
      "source": [
        "# Once the cluster is running, open a new cmd and run the command:\n",
        "docker exec -it cass_cluster cqlsh\n",
        "# You can interact now with the cluster using CQL."
      ]
    },
    {
      "cell_type": "markdown",
      "metadata": {
        "id": "uvV_bF1Elk9I"
      },
      "source": [
        "##Step 2: Create University Keyspace"
      ]
    },
    {
      "cell_type": "code",
      "execution_count": null,
      "metadata": {
        "id": "mRkxhAy2lQVg"
      },
      "outputs": [],
      "source": [
        "CREATE KEYSPACE IF NOT EXISTS University WITH replication = {\n",
        "    'class': 'SimpleStrategy',\n",
        "    'replication_factor’: 1\n",
        "};"
      ]
    },
    {
      "cell_type": "code",
      "execution_count": null,
      "metadata": {
        "id": "l7eRaKwAlyrf"
      },
      "outputs": [],
      "source": [
        "# To validate you created the keyspace\n",
        "DESCRIBE keyspaces;"
      ]
    },
    {
      "cell_type": "code",
      "execution_count": null,
      "metadata": {
        "id": "CqgzndRPl8ig"
      },
      "outputs": [],
      "source": [
        "# The output should be:\n",
        "system       system_distributed  system_traces  system_virtual_schema\n",
        "system_auth  system_schema       system_views   university"
      ]
    },
    {
      "cell_type": "markdown",
      "metadata": {
        "id": "RITM59YXmH4j"
      },
      "source": [
        "## Step 3: Creating Tables"
      ]
    },
    {
      "cell_type": "code",
      "execution_count": null,
      "metadata": {
        "id": "zqT93A8vn0bw"
      },
      "outputs": [],
      "source": [
        "USE university;"
      ]
    },
    {
      "cell_type": "code",
      "execution_count": null,
      "metadata": {
        "id": "JV0Pz_GQmMnh"
      },
      "outputs": [],
      "source": [
        "CREATE TABLE students (\n",
        "  student_id UUID PRIMARY KEY,\n",
        "  name TEXT,\n",
        "  email TEXT,\n",
        "  enrollment_year INT\n",
        ");"
      ]
    },
    {
      "cell_type": "code",
      "execution_count": null,
      "metadata": {
        "id": "02fK86SXmQHb"
      },
      "outputs": [],
      "source": [
        "CREATE TABLE courses (\n",
        "  course_id UUID PRIMARY KEY,\n",
        "  course_name TEXT,\n",
        "  lecturer_id UUID,\n",
        "  credits INT\n",
        ");"
      ]
    },
    {
      "cell_type": "code",
      "execution_count": null,
      "metadata": {
        "id": "WdYS-5WumUk_"
      },
      "outputs": [],
      "source": [
        "CREATE TABLE lecturers (\n",
        "  lecturer_id UUID PRIMARY KEY,\n",
        "  name TEXT,\n",
        "  department TEXT\n",
        ");"
      ]
    },
    {
      "cell_type": "code",
      "execution_count": null,
      "metadata": {
        "id": "gbMd2MPImUf2"
      },
      "outputs": [],
      "source": [
        "CREATE TABLE course_enrollments (\n",
        "  course_id UUID,\n",
        "  student_id UUID,\n",
        "  enrollment_date DATE,\n",
        "  PRIMARY KEY (course_id, student_id)\n",
        ");"
      ]
    },
    {
      "cell_type": "code",
      "execution_count": null,
      "metadata": {
        "id": "FHYmBtyLondX"
      },
      "outputs": [],
      "source": [
        "# To validate you created the tables\n",
        "cqlsh:university> DESCRIBE tables;"
      ]
    },
    {
      "cell_type": "code",
      "execution_count": null,
      "metadata": {
        "id": "J-q-ylFgorvH"
      },
      "outputs": [],
      "source": [
        "# The output should be:\n",
        "course_enrollments  courses  lecturers  students"
      ]
    },
    {
      "cell_type": "markdown",
      "metadata": {
        "id": "b5xPLjFMoSTD"
      },
      "source": [
        "## Step 4: Inserting data"
      ]
    },
    {
      "cell_type": "code",
      "execution_count": null,
      "metadata": {
        "id": "GdypCEKcoU8z"
      },
      "outputs": [],
      "source": [
        "# Inserting data into students\n",
        "INSERT INTO students (student_id, name, email, enrollment_year) VALUES (550e8400-e29b-41d4-a716-446655440000, 'John Doe', 'john.doe@email.com', 2021);\n",
        "INSERT INTO students (student_id, name, email, enrollment_year) VALUES (652e8500-f39c-42d5-b517-557655450001, 'Jane Smith', 'jane.smith@email.com', 2020);\n",
        "INSERT INTO students (student_id, name, enrollment_year) VALUES (753e8600-e49d-53e6-c628-668655460002, 'Alice Johnson', 2019);"
      ]
    },
    {
      "cell_type": "code",
      "execution_count": null,
      "metadata": {
        "id": "3eVO-KPgqydK"
      },
      "outputs": [],
      "source": [
        "# Inserting data into lecturers\n",
        "INSERT INTO lecturers (lecturer_id, name, department) VALUES (860e9700-a59e-63f7-d739-779655470003, 'Dr. James Watson', 'Biology');\n",
        "INSERT INTO lecturers (lecturer_id, name, department) VALUES (961e9800-b69f-73c8-e840-889655480004, 'Dr. Emma Wilson', 'Physics');\n",
        "INSERT INTO lecturers (lecturer_id, name) VALUES (072e9900-d710-83e9-f951-990655490005, 'Prof. Michael Brown');"
      ]
    },
    {
      "cell_type": "code",
      "execution_count": null,
      "metadata": {
        "id": "KKJY9rykqybM"
      },
      "outputs": [],
      "source": [
        "# Inserting data into courses\n",
        "INSERT INTO courses (course_id, lecturer_id, course_name, credits) VALUES (183fa000-f821-93a0-b062-a96655650006, 860e9700-a59e-63f7-d739-779655470003, 'Biology 101', 3);\n",
        "INSERT INTO courses (course_id, lecturer_id, course_name, credits) VALUES (284fb000-a932-a4b1-c173-b97755660007, 961e9800-b69f-73c8-e840-889655480004, 'Physics 101', 4);\n",
        "INSERT INTO courses (course_id, lecturer_id, course_name, credits) VALUES (385fc000-d043-b5e2-f284-c98855670008, 072e9900-d710-83e9-f951-990655490005, 'Mathematics 101', 3);"
      ]
    },
    {
      "cell_type": "code",
      "execution_count": null,
      "metadata": {
        "id": "2v7CHt7Oq1Kr"
      },
      "outputs": [],
      "source": [
        "# Inserting data into course_enrollments\n",
        "INSERT INTO course_enrollments (course_id, student_id, enrollment_date) VALUES (183fa000-f821-93a0-b062-a96655650006, 550e8400-e29b-41d4-a716-446655440000, '2023-10-01');\n",
        "INSERT INTO course_enrollments (course_id, student_id, enrollment_date) VALUES (284fb000-a932-a4b1-c173-b97755660007, 652e8500-f39c-42d5-b517-557655450001, '2023-09-15');\n",
        "INSERT INTO course_enrollments (course_id, student_id) VALUES (385fc000-d043-b5e2-f284-c98855670008, 753e8600-e49d-53e6-c628-668655460002);"
      ]
    },
    {
      "cell_type": "markdown",
      "metadata": {
        "id": "CTJ-LM7dtpWz"
      },
      "source": [
        "## Step 5: Querying the data"
      ]
    },
    {
      "cell_type": "code",
      "execution_count": 1,
      "metadata": {
        "id": "IJX_ipvKtoDq"
      },
      "outputs": [],
      "source": [
        "# Get all students\n",
        "SELECT * FROM STUDENTS\n",
        "\n",
        ">>\n",
        " student_id                           | email                | enrollment_year | name\n",
        "--------------------------------------+----------------------+-----------------+---------------\n",
        " 753e8600-e49d-53e6-c628-668655460002 |                 null |            2019 | Alice Johnson\n",
        " 652e8500-f39c-42d5-b517-557655450001 | jane.smith@email.com |            2020 |    Jane Smith\n",
        " 550e8400-e29b-41d4-a716-446655440000 |   john.doe@email.com |            2021 |      John Doe\n",
        " (3 rows)"
      ]
    },
    {
      "cell_type": "code",
      "execution_count": null,
      "metadata": {
        "id": "RNCzZzX4tuQq"
      },
      "outputs": [],
      "source": [
        "# Get the list of students who enrolled after 2020 along with their email and the courses they enrolled in\n",
        "SELECT student_id, name, email\n",
        "FROM students\n",
        "WHERE enrollment_year > 2020 ALLOW FILTERING;\n",
        "\n",
        ">>\n",
        " student_id                           | name     | email\n",
        "--------------------------------------+----------+--------------------\n",
        " 550e8400-e29b-41d4-a716-446655440000 | John Doe | john.doe@email.com\n",
        "\n",
        "(1 rows)"
      ]
    },
    {
      "cell_type": "code",
      "execution_count": null,
      "metadata": {
        "id": "fMhyryctvil9"
      },
      "outputs": [],
      "source": [
        "# Find all courses and count of students enrolled in them\n",
        "SELECT course_id, COUNT(student_id) as student_count\n",
        "FROM course_enrollments\n",
        "GROUP BY course_id;\n",
        "\n",
        ">>\n",
        " course_id                            | student_count\n",
        "--------------------------------------+---------------\n",
        " 183fa000-f821-93a0-b062-a96655650006 |             1\n",
        " 385fc000-d043-b5e2-f284-c98855670008 |             1\n",
        " 284fb000-a932-a4b1-c173-b97755660007 |             1\n",
        "\n",
        "(3 rows)"
      ]
    }
  ],
  "metadata": {
    "colab": {
      "provenance": []
    },
    "kernelspec": {
      "display_name": "Python 3",
      "name": "python3"
    },
    "language_info": {
      "name": "python"
    }
  },
  "nbformat": 4,
  "nbformat_minor": 0
}
